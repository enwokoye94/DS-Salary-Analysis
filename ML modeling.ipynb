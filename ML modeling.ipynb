{
 "cells": [
  {
   "cell_type": "code",
   "execution_count": 1,
   "metadata": {},
   "outputs": [
    {
     "data": {
      "text/html": [
       "<div>\n",
       "<style scoped>\n",
       "    .dataframe tbody tr th:only-of-type {\n",
       "        vertical-align: middle;\n",
       "    }\n",
       "\n",
       "    .dataframe tbody tr th {\n",
       "        vertical-align: top;\n",
       "    }\n",
       "\n",
       "    .dataframe thead th {\n",
       "        text-align: right;\n",
       "    }\n",
       "</style>\n",
       "<table border=\"1\" class=\"dataframe\">\n",
       "  <thead>\n",
       "    <tr style=\"text-align: right;\">\n",
       "      <th></th>\n",
       "      <th>Job Title</th>\n",
       "      <th>Salary Estimate</th>\n",
       "      <th>Job Description</th>\n",
       "      <th>Rating</th>\n",
       "      <th>Company Name</th>\n",
       "      <th>Location</th>\n",
       "      <th>Headquarters</th>\n",
       "      <th>Size</th>\n",
       "      <th>Founded</th>\n",
       "      <th>Type of ownership</th>\n",
       "      <th>...</th>\n",
       "      <th>max_salary</th>\n",
       "      <th>avg_salary</th>\n",
       "      <th>city</th>\n",
       "      <th>state</th>\n",
       "      <th>same_state</th>\n",
       "      <th>company_age</th>\n",
       "      <th>job_tag</th>\n",
       "      <th>job_level</th>\n",
       "      <th>num_competitors</th>\n",
       "      <th>region</th>\n",
       "    </tr>\n",
       "  </thead>\n",
       "  <tbody>\n",
       "    <tr>\n",
       "      <th>0</th>\n",
       "      <td>Data Scientist</td>\n",
       "      <td>70-116</td>\n",
       "      <td>Secure our Nation, Ignite your Future\\r\\n\\r\\nJ...</td>\n",
       "      <td>4.2</td>\n",
       "      <td>ManTech</td>\n",
       "      <td>Chantilly, VA</td>\n",
       "      <td>Herndon, VA</td>\n",
       "      <td>5001 to 10000 employees</td>\n",
       "      <td>1968</td>\n",
       "      <td>Company - Public</td>\n",
       "      <td>...</td>\n",
       "      <td>116</td>\n",
       "      <td>93.0</td>\n",
       "      <td>Chantilly</td>\n",
       "      <td>VA</td>\n",
       "      <td>0</td>\n",
       "      <td>52</td>\n",
       "      <td>data scientist</td>\n",
       "      <td>NaN</td>\n",
       "      <td>0</td>\n",
       "      <td>SouthEast</td>\n",
       "    </tr>\n",
       "    <tr>\n",
       "      <th>1</th>\n",
       "      <td>Data Scientist</td>\n",
       "      <td>70-116</td>\n",
       "      <td>VA Boston Healthcare System\\r\\nBoston, Massach...</td>\n",
       "      <td>3.6</td>\n",
       "      <td>VA Boston Healthcare System</td>\n",
       "      <td>Boston, MA</td>\n",
       "      <td>Boston, MA</td>\n",
       "      <td>201 to 500 employees</td>\n",
       "      <td>-1</td>\n",
       "      <td>Hospital</td>\n",
       "      <td>...</td>\n",
       "      <td>116</td>\n",
       "      <td>93.0</td>\n",
       "      <td>Boston</td>\n",
       "      <td>MA</td>\n",
       "      <td>1</td>\n",
       "      <td>-1</td>\n",
       "      <td>data scientist</td>\n",
       "      <td>NaN</td>\n",
       "      <td>0</td>\n",
       "      <td>NorthEast</td>\n",
       "    </tr>\n",
       "    <tr>\n",
       "      <th>2</th>\n",
       "      <td>Data &amp; Analytics Consultant</td>\n",
       "      <td>70-116</td>\n",
       "      <td>WHO WE LOOK FOR\\r\\n\\r\\nAn SEI Consultant is a ...</td>\n",
       "      <td>4.6</td>\n",
       "      <td>SEI</td>\n",
       "      <td>Cincinnati, OH</td>\n",
       "      <td>Cincinnati, OH</td>\n",
       "      <td>201 to 500 employees</td>\n",
       "      <td>1992</td>\n",
       "      <td>Company - Private</td>\n",
       "      <td>...</td>\n",
       "      <td>116</td>\n",
       "      <td>93.0</td>\n",
       "      <td>Cincinnati</td>\n",
       "      <td>OH</td>\n",
       "      <td>1</td>\n",
       "      <td>28</td>\n",
       "      <td>other</td>\n",
       "      <td>NaN</td>\n",
       "      <td>0</td>\n",
       "      <td>MidWest</td>\n",
       "    </tr>\n",
       "    <tr>\n",
       "      <th>3</th>\n",
       "      <td>R&amp;D Scientist</td>\n",
       "      <td>70-116</td>\n",
       "      <td>Since 2001, Hygiena has been on a mission to b...</td>\n",
       "      <td>3.9</td>\n",
       "      <td>Hygiena</td>\n",
       "      <td>New Castle, DE</td>\n",
       "      <td>Camarillo, CA</td>\n",
       "      <td>201 to 500 employees</td>\n",
       "      <td>-1</td>\n",
       "      <td>Company - Private</td>\n",
       "      <td>...</td>\n",
       "      <td>116</td>\n",
       "      <td>93.0</td>\n",
       "      <td>New Castle</td>\n",
       "      <td>DE</td>\n",
       "      <td>0</td>\n",
       "      <td>-1</td>\n",
       "      <td>other</td>\n",
       "      <td>NaN</td>\n",
       "      <td>2</td>\n",
       "      <td>NorthEast</td>\n",
       "    </tr>\n",
       "    <tr>\n",
       "      <th>4</th>\n",
       "      <td>Data Scientist</td>\n",
       "      <td>70-116</td>\n",
       "      <td>Why We Work at Dun &amp; Bradstreet\\r\\n\\r\\n\\r\\nWe ...</td>\n",
       "      <td>3.1</td>\n",
       "      <td>Dun &amp; Bradstreet</td>\n",
       "      <td>Austin, TX</td>\n",
       "      <td>Short Hills, NJ</td>\n",
       "      <td>1001 to 5000 employees</td>\n",
       "      <td>1841</td>\n",
       "      <td>Company - Private</td>\n",
       "      <td>...</td>\n",
       "      <td>116</td>\n",
       "      <td>93.0</td>\n",
       "      <td>Austin</td>\n",
       "      <td>TX</td>\n",
       "      <td>0</td>\n",
       "      <td>179</td>\n",
       "      <td>data scientist</td>\n",
       "      <td>NaN</td>\n",
       "      <td>2</td>\n",
       "      <td>SouthWest</td>\n",
       "    </tr>\n",
       "  </tbody>\n",
       "</table>\n",
       "<p>5 rows × 26 columns</p>\n",
       "</div>"
      ],
      "text/plain": [
       "                     Job Title Salary Estimate  \\\n",
       "0               Data Scientist         70-116    \n",
       "1               Data Scientist         70-116    \n",
       "2  Data & Analytics Consultant         70-116    \n",
       "3                R&D Scientist         70-116    \n",
       "4               Data Scientist         70-116    \n",
       "\n",
       "                                     Job Description  Rating  \\\n",
       "0  Secure our Nation, Ignite your Future\\r\\n\\r\\nJ...     4.2   \n",
       "1  VA Boston Healthcare System\\r\\nBoston, Massach...     3.6   \n",
       "2  WHO WE LOOK FOR\\r\\n\\r\\nAn SEI Consultant is a ...     4.6   \n",
       "3  Since 2001, Hygiena has been on a mission to b...     3.9   \n",
       "4  Why We Work at Dun & Bradstreet\\r\\n\\r\\n\\r\\nWe ...     3.1   \n",
       "\n",
       "                  Company Name        Location     Headquarters  \\\n",
       "0                      ManTech   Chantilly, VA      Herndon, VA   \n",
       "1  VA Boston Healthcare System      Boston, MA       Boston, MA   \n",
       "2                          SEI  Cincinnati, OH   Cincinnati, OH   \n",
       "3                      Hygiena  New Castle, DE    Camarillo, CA   \n",
       "4             Dun & Bradstreet      Austin, TX  Short Hills, NJ   \n",
       "\n",
       "                      Size  Founded  Type of ownership  ... max_salary  \\\n",
       "0  5001 to 10000 employees     1968   Company - Public  ...        116   \n",
       "1     201 to 500 employees       -1           Hospital  ...        116   \n",
       "2     201 to 500 employees     1992  Company - Private  ...        116   \n",
       "3     201 to 500 employees       -1  Company - Private  ...        116   \n",
       "4   1001 to 5000 employees     1841  Company - Private  ...        116   \n",
       "\n",
       "  avg_salary        city state  same_state  company_age         job_tag  \\\n",
       "0       93.0   Chantilly    VA           0           52  data scientist   \n",
       "1       93.0      Boston    MA           1           -1  data scientist   \n",
       "2       93.0  Cincinnati    OH           1           28           other   \n",
       "3       93.0  New Castle    DE           0           -1           other   \n",
       "4       93.0      Austin    TX           0          179  data scientist   \n",
       "\n",
       "   job_level num_competitors     region  \n",
       "0        NaN               0  SouthEast  \n",
       "1        NaN               0  NorthEast  \n",
       "2        NaN               0    MidWest  \n",
       "3        NaN               2  NorthEast  \n",
       "4        NaN               2  SouthWest  \n",
       "\n",
       "[5 rows x 26 columns]"
      ]
     },
     "execution_count": 1,
     "metadata": {},
     "output_type": "execute_result"
    }
   ],
   "source": [
    "import pandas as pd\n",
    "import numpy as np\n",
    "import matplotlib.pyplot as plt\n",
    "import seaborn as sns ; sns.set()\n",
    "\n",
    "%matplotlib inline\n",
    "\n",
    "df = pd.read_csv('eda_cleaned_data.csv')\n",
    "df.head()"
   ]
  },
  {
   "cell_type": "code",
   "execution_count": 2,
   "metadata": {},
   "outputs": [
    {
     "data": {
      "text/plain": [
       "Index(['Job Title', 'Salary Estimate', 'Job Description', 'Rating',\n",
       "       'Company Name', 'Location', 'Headquarters', 'Size', 'Founded',\n",
       "       'Type of ownership', 'Industry', 'Sector', 'Revenue', 'Competitors',\n",
       "       'hourly', 'min_salary', 'max_salary', 'avg_salary', 'city', 'state',\n",
       "       'same_state', 'company_age', 'job_tag', 'job_level', 'num_competitors',\n",
       "       'region'],\n",
       "      dtype='object')"
      ]
     },
     "execution_count": 2,
     "metadata": {},
     "output_type": "execute_result"
    }
   ],
   "source": [
    "df.columns"
   ]
  },
  {
   "cell_type": "code",
   "execution_count": 3,
   "metadata": {},
   "outputs": [
    {
     "name": "stdout",
     "output_type": "stream",
     "text": [
      "(300, 13)\n"
     ]
    },
    {
     "data": {
      "text/html": [
       "<div>\n",
       "<style scoped>\n",
       "    .dataframe tbody tr th:only-of-type {\n",
       "        vertical-align: middle;\n",
       "    }\n",
       "\n",
       "    .dataframe tbody tr th {\n",
       "        vertical-align: top;\n",
       "    }\n",
       "\n",
       "    .dataframe thead th {\n",
       "        text-align: right;\n",
       "    }\n",
       "</style>\n",
       "<table border=\"1\" class=\"dataframe\">\n",
       "  <thead>\n",
       "    <tr style=\"text-align: right;\">\n",
       "      <th></th>\n",
       "      <th>job_tag</th>\n",
       "      <th>job_level</th>\n",
       "      <th>state</th>\n",
       "      <th>Size</th>\n",
       "      <th>Industry</th>\n",
       "      <th>Sector</th>\n",
       "      <th>Type of ownership</th>\n",
       "      <th>Rating</th>\n",
       "      <th>Revenue</th>\n",
       "      <th>avg_salary</th>\n",
       "      <th>company_age</th>\n",
       "      <th>num_competitors</th>\n",
       "      <th>region</th>\n",
       "    </tr>\n",
       "  </thead>\n",
       "  <tbody>\n",
       "    <tr>\n",
       "      <th>0</th>\n",
       "      <td>data scientist</td>\n",
       "      <td>NaN</td>\n",
       "      <td>VA</td>\n",
       "      <td>5001 to 10000 employees</td>\n",
       "      <td>Research &amp; Development</td>\n",
       "      <td>Business Services</td>\n",
       "      <td>Company - Public</td>\n",
       "      <td>4.2</td>\n",
       "      <td>$1 to $2 billion (USD)</td>\n",
       "      <td>93.0</td>\n",
       "      <td>52</td>\n",
       "      <td>0</td>\n",
       "      <td>SouthEast</td>\n",
       "    </tr>\n",
       "    <tr>\n",
       "      <th>1</th>\n",
       "      <td>data scientist</td>\n",
       "      <td>NaN</td>\n",
       "      <td>MA</td>\n",
       "      <td>201 to 500 employees</td>\n",
       "      <td>Health Care Services &amp; Hospitals</td>\n",
       "      <td>Health Care</td>\n",
       "      <td>Hospital</td>\n",
       "      <td>3.6</td>\n",
       "      <td>Unknown / Non-Applicable</td>\n",
       "      <td>93.0</td>\n",
       "      <td>-1</td>\n",
       "      <td>0</td>\n",
       "      <td>NorthEast</td>\n",
       "    </tr>\n",
       "    <tr>\n",
       "      <th>2</th>\n",
       "      <td>other</td>\n",
       "      <td>NaN</td>\n",
       "      <td>OH</td>\n",
       "      <td>201 to 500 employees</td>\n",
       "      <td>Consulting</td>\n",
       "      <td>Business Services</td>\n",
       "      <td>Company - Private</td>\n",
       "      <td>4.6</td>\n",
       "      <td>$50 to $100 million (USD)</td>\n",
       "      <td>93.0</td>\n",
       "      <td>28</td>\n",
       "      <td>0</td>\n",
       "      <td>MidWest</td>\n",
       "    </tr>\n",
       "    <tr>\n",
       "      <th>3</th>\n",
       "      <td>other</td>\n",
       "      <td>NaN</td>\n",
       "      <td>DE</td>\n",
       "      <td>201 to 500 employees</td>\n",
       "      <td>Biotech &amp; Pharmaceuticals</td>\n",
       "      <td>Biotech &amp; Pharmaceuticals</td>\n",
       "      <td>Company - Private</td>\n",
       "      <td>3.9</td>\n",
       "      <td>$100 to $500 million (USD)</td>\n",
       "      <td>93.0</td>\n",
       "      <td>-1</td>\n",
       "      <td>2</td>\n",
       "      <td>NorthEast</td>\n",
       "    </tr>\n",
       "    <tr>\n",
       "      <th>4</th>\n",
       "      <td>data scientist</td>\n",
       "      <td>NaN</td>\n",
       "      <td>TX</td>\n",
       "      <td>1001 to 5000 employees</td>\n",
       "      <td>IT Services</td>\n",
       "      <td>Information Technology</td>\n",
       "      <td>Company - Private</td>\n",
       "      <td>3.1</td>\n",
       "      <td>$1 to $2 billion (USD)</td>\n",
       "      <td>93.0</td>\n",
       "      <td>179</td>\n",
       "      <td>2</td>\n",
       "      <td>SouthWest</td>\n",
       "    </tr>\n",
       "  </tbody>\n",
       "</table>\n",
       "</div>"
      ],
      "text/plain": [
       "          job_tag job_level state                     Size  \\\n",
       "0  data scientist       NaN    VA  5001 to 10000 employees   \n",
       "1  data scientist       NaN    MA     201 to 500 employees   \n",
       "2           other       NaN    OH     201 to 500 employees   \n",
       "3           other       NaN    DE     201 to 500 employees   \n",
       "4  data scientist       NaN    TX   1001 to 5000 employees   \n",
       "\n",
       "                           Industry                     Sector  \\\n",
       "0            Research & Development          Business Services   \n",
       "1  Health Care Services & Hospitals                Health Care   \n",
       "2                        Consulting          Business Services   \n",
       "3         Biotech & Pharmaceuticals  Biotech & Pharmaceuticals   \n",
       "4                       IT Services     Information Technology   \n",
       "\n",
       "   Type of ownership  Rating                     Revenue  avg_salary  \\\n",
       "0   Company - Public     4.2      $1 to $2 billion (USD)        93.0   \n",
       "1           Hospital     3.6    Unknown / Non-Applicable        93.0   \n",
       "2  Company - Private     4.6   $50 to $100 million (USD)        93.0   \n",
       "3  Company - Private     3.9  $100 to $500 million (USD)        93.0   \n",
       "4  Company - Private     3.1      $1 to $2 billion (USD)        93.0   \n",
       "\n",
       "   company_age  num_competitors     region  \n",
       "0           52                0  SouthEast  \n",
       "1           -1                0  NorthEast  \n",
       "2           28                0    MidWest  \n",
       "3           -1                2  NorthEast  \n",
       "4          179                2  SouthWest  "
      ]
     },
     "execution_count": 3,
     "metadata": {},
     "output_type": "execute_result"
    }
   ],
   "source": [
    "# interested categories \n",
    "\n",
    "cat = ['job_tag', 'job_level', 'state', 'Size', 'Industry', 'Sector', 'Type of ownership', 'Rating', 'Revenue', 'avg_salary', 'company_age', 'num_competitors', 'region']\n",
    "\n",
    "model_df = df[cat]\n",
    "print(model_df.shape)\n",
    "model_df.head()"
   ]
  },
  {
   "cell_type": "code",
   "execution_count": 4,
   "metadata": {},
   "outputs": [
    {
     "name": "stdout",
     "output_type": "stream",
     "text": [
      "                   % of missing values\n",
      "job_tag                           0.00\n",
      "job_level                        76.33\n",
      "state                             4.33\n",
      "Size                              0.00\n",
      "Industry                          0.00\n",
      "Sector                            0.00\n",
      "Type of ownership                 0.00\n",
      "Rating                            0.00\n",
      "Revenue                           0.00\n",
      "avg_salary                        0.00\n",
      "company_age                       0.00\n",
      "num_competitors                   0.00\n",
      "region                            4.67\n"
     ]
    },
    {
     "name": "stderr",
     "output_type": "stream",
     "text": [
      "C:\\Users\\Ekene\\anaconda3\\lib\\site-packages\\pandas\\core\\frame.py:4147: SettingWithCopyWarning: \n",
      "A value is trying to be set on a copy of a slice from a DataFrame\n",
      "\n",
      "See the caveats in the documentation: https://pandas.pydata.org/pandas-docs/stable/user_guide/indexing.html#returning-a-view-versus-a-copy\n",
      "  return super().fillna(\n",
      "C:\\Users\\Ekene\\anaconda3\\lib\\site-packages\\pandas\\core\\frame.py:3990: SettingWithCopyWarning: \n",
      "A value is trying to be set on a copy of a slice from a DataFrame\n",
      "\n",
      "See the caveats in the documentation: https://pandas.pydata.org/pandas-docs/stable/user_guide/indexing.html#returning-a-view-versus-a-copy\n",
      "  return super().drop(\n"
     ]
    },
    {
     "data": {
      "text/plain": [
       "job_tag              0\n",
       "state                0\n",
       "Size                 0\n",
       "Industry             0\n",
       "Sector               0\n",
       "Type of ownership    0\n",
       "Rating               0\n",
       "Revenue              0\n",
       "avg_salary           0\n",
       "company_age          0\n",
       "num_competitors      0\n",
       "region               0\n",
       "dtype: int64"
      ]
     },
     "execution_count": 4,
     "metadata": {},
     "output_type": "execute_result"
    }
   ],
   "source": [
    "per_missing = (round((model_df.isna().sum()/model_df.shape[0]) * 100,2).to_frame(name = '% of missing values'))\n",
    "\n",
    "print(per_missing)\n",
    "for index, row in per_missing.iterrows():\n",
    "    if row[0] > 50:\n",
    "#         print('yes')\n",
    "        model_df.drop(labels=index, inplace=True, axis=1)\n",
    "    else:\n",
    "#         pass\n",
    "        model_df.fillna('Unknown', inplace=True)\n",
    "    \n",
    "model_df.isna().sum()"
   ]
  },
  {
   "cell_type": "code",
   "execution_count": 5,
   "metadata": {},
   "outputs": [
    {
     "data": {
      "text/plain": [
       "array(['SouthEast', 'NorthEast', 'MidWest', 'SouthWest', 'West',\n",
       "       'Unknown'], dtype=object)"
      ]
     },
     "execution_count": 5,
     "metadata": {},
     "output_type": "execute_result"
    }
   ],
   "source": [
    "model_df.region.unique()"
   ]
  },
  {
   "cell_type": "code",
   "execution_count": 24,
   "metadata": {
    "scrolled": true
   },
   "outputs": [
    {
     "name": "stderr",
     "output_type": "stream",
     "text": [
      "C:\\Users\\Ekene\\anaconda3\\lib\\site-packages\\sklearn\\model_selection\\_split.py:293: FutureWarning: Setting a random_state has no effect since shuffle is False. This will raise an error in 0.24. You should leave random_state to its default (None), or set shuffle=True.\n",
      "  warnings.warn(\n"
     ]
    },
    {
     "name": "stdout",
     "output_type": "stream",
     "text": [
      "ls: -21.858040 (9.093582)\n"
     ]
    },
    {
     "name": "stderr",
     "output_type": "stream",
     "text": [
      "C:\\Users\\Ekene\\anaconda3\\lib\\site-packages\\sklearn\\model_selection\\_split.py:293: FutureWarning: Setting a random_state has no effect since shuffle is False. This will raise an error in 0.24. You should leave random_state to its default (None), or set shuffle=True.\n",
      "  warnings.warn(\n"
     ]
    },
    {
     "name": "stdout",
     "output_type": "stream",
     "text": [
      "dt: -26.729028 (8.218397)\n"
     ]
    },
    {
     "name": "stderr",
     "output_type": "stream",
     "text": [
      "C:\\Users\\Ekene\\anaconda3\\lib\\site-packages\\sklearn\\model_selection\\_split.py:293: FutureWarning: Setting a random_state has no effect since shuffle is False. This will raise an error in 0.24. You should leave random_state to its default (None), or set shuffle=True.\n",
      "  warnings.warn(\n"
     ]
    },
    {
     "name": "stdout",
     "output_type": "stream",
     "text": [
      "rf: -23.492716 (9.730504)\n"
     ]
    },
    {
     "data": {
      "text/plain": [
       "[Text(0, 0, 'ls'), Text(0, 0, 'dt'), Text(0, 0, 'rf')]"
      ]
     },
     "execution_count": 24,
     "metadata": {},
     "output_type": "execute_result"
    },
    {
     "data": {
      "image/png": "[encoded data removed]",
      "text/plain": [
       "<Figure size 432x288 with 1 Axes>"
      ]
     },
     "metadata": {
      "needs_background": "light"
     },
     "output_type": "display_data"
    }
   ],
   "source": [
    "# linearregression\n",
    "# decision tree\n",
    "# Random Forrest\n",
    "\n",
    "\n",
    "from sklearn.linear_model import LinearRegression, Lasso\n",
    "from sklearn.model_selection import train_test_split, cross_val_score, KFold\n",
    "from sklearn.tree import DecisionTreeRegressor\n",
    "from sklearn.preprocessing import OneHotEncoder\n",
    "from sklearn.ensemble import RandomForestRegressor\n",
    "from sklearn.naive_bayes import GaussianNB\n",
    "from sklearn.svm import SVC\n",
    "from sklearn.neighbors import KNeighborsClassifier\n",
    "from sklearn.linear_model import LogisticRegression\n",
    "\n",
    "\n",
    "models = []\n",
    "\n",
    "\n",
    "# models.append(('lr', LinearRegression()))\n",
    "models.append(('ls', Lasso()))\n",
    "# models.append(('LR', LogisticRegression()))\n",
    "models.append(('dt', DecisionTreeRegressor()))\n",
    "# models.append(('KNN', KNeighborsClassifier()))\n",
    "# models.append(('NB', GaussianNB()))\n",
    "# models.append(('SVM', SVC()))\n",
    "# models.append(('ohe', OneHotEncoder(sparse=False)))\n",
    "models.append(('rf', RandomForestRegressor()))\n",
    "\n",
    "model_df = pd.get_dummies(model_df)\n",
    "X = model_df.drop('avg_salary', axis = 1)\n",
    "y = model_df['avg_salary']\n",
    "\n",
    "\n",
    "results = []\n",
    "names = []\n",
    "\n",
    "for name, model in models:\n",
    "    kfold = KFold(n_splits=10, random_state = 42)\n",
    "    cv_results = cross_val_score(model, X, y, cv=kfold, scoring ='neg_mean_absolute_error')\n",
    "    results.append(cv_results)\n",
    "    names.append(name)\n",
    "    msg = \"%s: %f (%f)\" % (name, cv_results.mean(), cv_results.std())\n",
    "    print(msg)\n",
    "# boxplot algorithm comparison\n",
    "fig = plt.figure()\n",
    "fig.suptitle('Algorithm Comparison')\n",
    "ax = fig.add_subplot(111)\n",
    "plt.boxplot(results)\n",
    "ax.set_xticklabels(names)\n",
    "\n",
    "# lr.fit(X_train, y_train)\n",
    "# dt.fit(X_train, y_train)\n",
    "\n"
   ]
  },
  {
   "cell_type": "code",
   "execution_count": 7,
   "metadata": {},
   "outputs": [
    {
     "data": {
      "text/plain": [
       "array([-19.23837209, -23.95348837, -22.30813953, -25.59302326,\n",
       "       -26.6627907 ])"
      ]
     },
     "execution_count": 7,
     "metadata": {},
     "output_type": "execute_result"
    }
   ],
   "source": [
    "cross_val_score(dt, X_train, y_train, scoring = 'neg_mean_absolute_error', cv=5)"
   ]
  },
  {
   "cell_type": "code",
   "execution_count": 46,
   "metadata": {
    "scrolled": false
   },
   "outputs": [
    {
     "name": "stderr",
     "output_type": "stream",
     "text": [
      "C:\\Users\\Ekene\\anaconda3\\lib\\site-packages\\sklearn\\model_selection\\_split.py:293: FutureWarning: Setting a random_state has no effect since shuffle is False. This will raise an error in 0.24. You should leave random_state to its default (None), or set shuffle=True.\n",
      "  warnings.warn(\n",
      "C:\\Users\\Ekene\\anaconda3\\lib\\site-packages\\sklearn\\model_selection\\_split.py:293: FutureWarning: Setting a random_state has no effect since shuffle is False. This will raise an error in 0.24. You should leave random_state to its default (None), or set shuffle=True.\n",
      "  warnings.warn(\n",
      "C:\\Users\\Ekene\\anaconda3\\lib\\site-packages\\sklearn\\model_selection\\_split.py:293: FutureWarning: Setting a random_state has no effect since shuffle is False. This will raise an error in 0.24. You should leave random_state to its default (None), or set shuffle=True.\n",
      "  warnings.warn(\n"
     ]
    },
    {
     "ename": "TypeError",
     "evalue": "Singleton array 96.165 cannot be considered a valid collection.",
     "output_type": "error",
     "traceback": [
      "\u001b[1;31m---------------------------------------------------------------------------\u001b[0m",
      "\u001b[1;31mTypeError\u001b[0m                                 Traceback (most recent call last)",
      "\u001b[1;32m<ipython-input-46-19f638559c8b>\u001b[0m in \u001b[0;36m<module>\u001b[1;34m\u001b[0m\n\u001b[0;32m     22\u001b[0m \u001b[0mmse\u001b[0m \u001b[1;33m=\u001b[0m \u001b[1;33m[\u001b[0m\u001b[1;33m]\u001b[0m\u001b[1;33m\u001b[0m\u001b[1;33m\u001b[0m\u001b[0m\n\u001b[0;32m     23\u001b[0m \u001b[1;32mfor\u001b[0m \u001b[0mmodel\u001b[0m\u001b[1;33m,\u001b[0m \u001b[0mscore\u001b[0m\u001b[1;33m,\u001b[0m \u001b[0mpred\u001b[0m \u001b[1;32min\u001b[0m \u001b[0mzip\u001b[0m\u001b[1;33m(\u001b[0m\u001b[0mmodels\u001b[0m\u001b[1;33m,\u001b[0m \u001b[0mresults\u001b[0m\u001b[1;33m,\u001b[0m \u001b[0mpred\u001b[0m\u001b[1;33m)\u001b[0m\u001b[1;33m:\u001b[0m\u001b[1;33m\u001b[0m\u001b[1;33m\u001b[0m\u001b[0m\n\u001b[1;32m---> 24\u001b[1;33m     \u001b[0mmse\u001b[0m \u001b[1;33m=\u001b[0m \u001b[1;33m(\u001b[0m\u001b[0mmean_absolute_error\u001b[0m\u001b[1;33m(\u001b[0m\u001b[0my_test\u001b[0m\u001b[1;33m,\u001b[0m \u001b[0mpred\u001b[0m\u001b[1;33m)\u001b[0m\u001b[1;33m)\u001b[0m\u001b[1;33m\u001b[0m\u001b[1;33m\u001b[0m\u001b[0m\n\u001b[0m\u001b[0;32m     25\u001b[0m     \u001b[0mprint\u001b[0m\u001b[1;33m(\u001b[0m\u001b[0mmodel\u001b[0m\u001b[1;33m,\u001b[0m \u001b[0mscore\u001b[0m\u001b[1;33m,\u001b[0m \u001b[0mmse\u001b[0m\u001b[1;33m)\u001b[0m\u001b[1;33m\u001b[0m\u001b[1;33m\u001b[0m\u001b[0m\n\u001b[0;32m     26\u001b[0m \u001b[1;32mfrom\u001b[0m \u001b[0msklearn\u001b[0m\u001b[1;33m.\u001b[0m\u001b[0mmetrics\u001b[0m \u001b[1;32mimport\u001b[0m \u001b[0mmean_absolute_error\u001b[0m\u001b[1;33m\u001b[0m\u001b[1;33m\u001b[0m\u001b[0m\n",
      "\u001b[1;32m~\\anaconda3\\lib\\site-packages\\sklearn\\utils\\validation.py\u001b[0m in \u001b[0;36minner_f\u001b[1;34m(*args, **kwargs)\u001b[0m\n\u001b[0;32m     71\u001b[0m                           FutureWarning)\n\u001b[0;32m     72\u001b[0m         \u001b[0mkwargs\u001b[0m\u001b[1;33m.\u001b[0m\u001b[0mupdate\u001b[0m\u001b[1;33m(\u001b[0m\u001b[1;33m{\u001b[0m\u001b[0mk\u001b[0m\u001b[1;33m:\u001b[0m \u001b[0marg\u001b[0m \u001b[1;32mfor\u001b[0m \u001b[0mk\u001b[0m\u001b[1;33m,\u001b[0m \u001b[0marg\u001b[0m \u001b[1;32min\u001b[0m \u001b[0mzip\u001b[0m\u001b[1;33m(\u001b[0m\u001b[0msig\u001b[0m\u001b[1;33m.\u001b[0m\u001b[0mparameters\u001b[0m\u001b[1;33m,\u001b[0m \u001b[0margs\u001b[0m\u001b[1;33m)\u001b[0m\u001b[1;33m}\u001b[0m\u001b[1;33m)\u001b[0m\u001b[1;33m\u001b[0m\u001b[1;33m\u001b[0m\u001b[0m\n\u001b[1;32m---> 73\u001b[1;33m         \u001b[1;32mreturn\u001b[0m \u001b[0mf\u001b[0m\u001b[1;33m(\u001b[0m\u001b[1;33m**\u001b[0m\u001b[0mkwargs\u001b[0m\u001b[1;33m)\u001b[0m\u001b[1;33m\u001b[0m\u001b[1;33m\u001b[0m\u001b[0m\n\u001b[0m\u001b[0;32m     74\u001b[0m     \u001b[1;32mreturn\u001b[0m \u001b[0minner_f\u001b[0m\u001b[1;33m\u001b[0m\u001b[1;33m\u001b[0m\u001b[0m\n\u001b[0;32m     75\u001b[0m \u001b[1;33m\u001b[0m\u001b[0m\n",
      "\u001b[1;32m~\\anaconda3\\lib\\site-packages\\sklearn\\metrics\\_regression.py\u001b[0m in \u001b[0;36mmean_absolute_error\u001b[1;34m(y_true, y_pred, sample_weight, multioutput)\u001b[0m\n\u001b[0;32m    176\u001b[0m     \u001b[1;36m0.85\u001b[0m\u001b[1;33m...\u001b[0m\u001b[1;33m\u001b[0m\u001b[1;33m\u001b[0m\u001b[0m\n\u001b[0;32m    177\u001b[0m     \"\"\"\n\u001b[1;32m--> 178\u001b[1;33m     y_type, y_true, y_pred, multioutput = _check_reg_targets(\n\u001b[0m\u001b[0;32m    179\u001b[0m         y_true, y_pred, multioutput)\n\u001b[0;32m    180\u001b[0m     \u001b[0mcheck_consistent_length\u001b[0m\u001b[1;33m(\u001b[0m\u001b[0my_true\u001b[0m\u001b[1;33m,\u001b[0m \u001b[0my_pred\u001b[0m\u001b[1;33m,\u001b[0m \u001b[0msample_weight\u001b[0m\u001b[1;33m)\u001b[0m\u001b[1;33m\u001b[0m\u001b[1;33m\u001b[0m\u001b[0m\n",
      "\u001b[1;32m~\\anaconda3\\lib\\site-packages\\sklearn\\metrics\\_regression.py\u001b[0m in \u001b[0;36m_check_reg_targets\u001b[1;34m(y_true, y_pred, multioutput, dtype)\u001b[0m\n\u001b[0;32m     82\u001b[0m \u001b[1;33m\u001b[0m\u001b[0m\n\u001b[0;32m     83\u001b[0m     \"\"\"\n\u001b[1;32m---> 84\u001b[1;33m     \u001b[0mcheck_consistent_length\u001b[0m\u001b[1;33m(\u001b[0m\u001b[0my_true\u001b[0m\u001b[1;33m,\u001b[0m \u001b[0my_pred\u001b[0m\u001b[1;33m)\u001b[0m\u001b[1;33m\u001b[0m\u001b[1;33m\u001b[0m\u001b[0m\n\u001b[0m\u001b[0;32m     85\u001b[0m     \u001b[0my_true\u001b[0m \u001b[1;33m=\u001b[0m \u001b[0mcheck_array\u001b[0m\u001b[1;33m(\u001b[0m\u001b[0my_true\u001b[0m\u001b[1;33m,\u001b[0m \u001b[0mensure_2d\u001b[0m\u001b[1;33m=\u001b[0m\u001b[1;32mFalse\u001b[0m\u001b[1;33m,\u001b[0m \u001b[0mdtype\u001b[0m\u001b[1;33m=\u001b[0m\u001b[0mdtype\u001b[0m\u001b[1;33m)\u001b[0m\u001b[1;33m\u001b[0m\u001b[1;33m\u001b[0m\u001b[0m\n\u001b[0;32m     86\u001b[0m     \u001b[0my_pred\u001b[0m \u001b[1;33m=\u001b[0m \u001b[0mcheck_array\u001b[0m\u001b[1;33m(\u001b[0m\u001b[0my_pred\u001b[0m\u001b[1;33m,\u001b[0m \u001b[0mensure_2d\u001b[0m\u001b[1;33m=\u001b[0m\u001b[1;32mFalse\u001b[0m\u001b[1;33m,\u001b[0m \u001b[0mdtype\u001b[0m\u001b[1;33m=\u001b[0m\u001b[0mdtype\u001b[0m\u001b[1;33m)\u001b[0m\u001b[1;33m\u001b[0m\u001b[1;33m\u001b[0m\u001b[0m\n",
      "\u001b[1;32m~\\anaconda3\\lib\\site-packages\\sklearn\\utils\\validation.py\u001b[0m in \u001b[0;36mcheck_consistent_length\u001b[1;34m(*arrays)\u001b[0m\n\u001b[0;32m    251\u001b[0m     \"\"\"\n\u001b[0;32m    252\u001b[0m \u001b[1;33m\u001b[0m\u001b[0m\n\u001b[1;32m--> 253\u001b[1;33m     \u001b[0mlengths\u001b[0m \u001b[1;33m=\u001b[0m \u001b[1;33m[\u001b[0m\u001b[0m_num_samples\u001b[0m\u001b[1;33m(\u001b[0m\u001b[0mX\u001b[0m\u001b[1;33m)\u001b[0m \u001b[1;32mfor\u001b[0m \u001b[0mX\u001b[0m \u001b[1;32min\u001b[0m \u001b[0marrays\u001b[0m \u001b[1;32mif\u001b[0m \u001b[0mX\u001b[0m \u001b[1;32mis\u001b[0m \u001b[1;32mnot\u001b[0m \u001b[1;32mNone\u001b[0m\u001b[1;33m]\u001b[0m\u001b[1;33m\u001b[0m\u001b[1;33m\u001b[0m\u001b[0m\n\u001b[0m\u001b[0;32m    254\u001b[0m     \u001b[0muniques\u001b[0m \u001b[1;33m=\u001b[0m \u001b[0mnp\u001b[0m\u001b[1;33m.\u001b[0m\u001b[0munique\u001b[0m\u001b[1;33m(\u001b[0m\u001b[0mlengths\u001b[0m\u001b[1;33m)\u001b[0m\u001b[1;33m\u001b[0m\u001b[1;33m\u001b[0m\u001b[0m\n\u001b[0;32m    255\u001b[0m     \u001b[1;32mif\u001b[0m \u001b[0mlen\u001b[0m\u001b[1;33m(\u001b[0m\u001b[0muniques\u001b[0m\u001b[1;33m)\u001b[0m \u001b[1;33m>\u001b[0m \u001b[1;36m1\u001b[0m\u001b[1;33m:\u001b[0m\u001b[1;33m\u001b[0m\u001b[1;33m\u001b[0m\u001b[0m\n",
      "\u001b[1;32m~\\anaconda3\\lib\\site-packages\\sklearn\\utils\\validation.py\u001b[0m in \u001b[0;36m<listcomp>\u001b[1;34m(.0)\u001b[0m\n\u001b[0;32m    251\u001b[0m     \"\"\"\n\u001b[0;32m    252\u001b[0m \u001b[1;33m\u001b[0m\u001b[0m\n\u001b[1;32m--> 253\u001b[1;33m     \u001b[0mlengths\u001b[0m \u001b[1;33m=\u001b[0m \u001b[1;33m[\u001b[0m\u001b[0m_num_samples\u001b[0m\u001b[1;33m(\u001b[0m\u001b[0mX\u001b[0m\u001b[1;33m)\u001b[0m \u001b[1;32mfor\u001b[0m \u001b[0mX\u001b[0m \u001b[1;32min\u001b[0m \u001b[0marrays\u001b[0m \u001b[1;32mif\u001b[0m \u001b[0mX\u001b[0m \u001b[1;32mis\u001b[0m \u001b[1;32mnot\u001b[0m \u001b[1;32mNone\u001b[0m\u001b[1;33m]\u001b[0m\u001b[1;33m\u001b[0m\u001b[1;33m\u001b[0m\u001b[0m\n\u001b[0m\u001b[0;32m    254\u001b[0m     \u001b[0muniques\u001b[0m \u001b[1;33m=\u001b[0m \u001b[0mnp\u001b[0m\u001b[1;33m.\u001b[0m\u001b[0munique\u001b[0m\u001b[1;33m(\u001b[0m\u001b[0mlengths\u001b[0m\u001b[1;33m)\u001b[0m\u001b[1;33m\u001b[0m\u001b[1;33m\u001b[0m\u001b[0m\n\u001b[0;32m    255\u001b[0m     \u001b[1;32mif\u001b[0m \u001b[0mlen\u001b[0m\u001b[1;33m(\u001b[0m\u001b[0muniques\u001b[0m\u001b[1;33m)\u001b[0m \u001b[1;33m>\u001b[0m \u001b[1;36m1\u001b[0m\u001b[1;33m:\u001b[0m\u001b[1;33m\u001b[0m\u001b[1;33m\u001b[0m\u001b[0m\n",
      "\u001b[1;32m~\\anaconda3\\lib\\site-packages\\sklearn\\utils\\validation.py\u001b[0m in \u001b[0;36m_num_samples\u001b[1;34m(x)\u001b[0m\n\u001b[0;32m    194\u001b[0m     \u001b[1;32mif\u001b[0m \u001b[0mhasattr\u001b[0m\u001b[1;33m(\u001b[0m\u001b[0mx\u001b[0m\u001b[1;33m,\u001b[0m \u001b[1;34m'shape'\u001b[0m\u001b[1;33m)\u001b[0m \u001b[1;32mand\u001b[0m \u001b[0mx\u001b[0m\u001b[1;33m.\u001b[0m\u001b[0mshape\u001b[0m \u001b[1;32mis\u001b[0m \u001b[1;32mnot\u001b[0m \u001b[1;32mNone\u001b[0m\u001b[1;33m:\u001b[0m\u001b[1;33m\u001b[0m\u001b[1;33m\u001b[0m\u001b[0m\n\u001b[0;32m    195\u001b[0m         \u001b[1;32mif\u001b[0m \u001b[0mlen\u001b[0m\u001b[1;33m(\u001b[0m\u001b[0mx\u001b[0m\u001b[1;33m.\u001b[0m\u001b[0mshape\u001b[0m\u001b[1;33m)\u001b[0m \u001b[1;33m==\u001b[0m \u001b[1;36m0\u001b[0m\u001b[1;33m:\u001b[0m\u001b[1;33m\u001b[0m\u001b[1;33m\u001b[0m\u001b[0m\n\u001b[1;32m--> 196\u001b[1;33m             raise TypeError(\"Singleton array %r cannot be considered\"\n\u001b[0m\u001b[0;32m    197\u001b[0m                             \" a valid collection.\" % x)\n\u001b[0;32m    198\u001b[0m         \u001b[1;31m# Check that shape is returning an integer or default to len\u001b[0m\u001b[1;33m\u001b[0m\u001b[1;33m\u001b[0m\u001b[1;33m\u001b[0m\u001b[0m\n",
      "\u001b[1;31mTypeError\u001b[0m: Singleton array 96.165 cannot be considered a valid collection."
     ]
    }
   ],
   "source": [
    "# lr = LinearRegression()\n",
    "ls = Lasso()\n",
    "# lr = LogisticRegression()\n",
    "dt = DecisionTreeRegressor()\n",
    "# knn = KNeighborsClassifier()\n",
    "# nb = GaussianNB()\n",
    "# svm = SVC()\n",
    "rf = RandomForestRegressor()\n",
    "\n",
    "models = [ls, dt, rf]\n",
    "results= []\n",
    "predictions = []\n",
    "for model in models:\n",
    "    kfold = KFold(n_splits=10, random_state = 42)\n",
    "    cv_results = cross_val_score(model, X_train, y_train, cv=kfold, scoring ='neg_mean_absolute_error')\n",
    "    results.append(cv_results.mean())\n",
    "    \n",
    "    model.fit(X_train, y_train)\n",
    "    pred = model.predict(X_test)\n",
    "    predictions.append(pred)\n",
    "    \n",
    "mse = []\n",
    "for model, score, pred in zip(models, results, pred):\n",
    "    mse = (mean_absolute_error(y_test, pred))\n",
    "    print(model, score, mse)  \n",
    "from sklearn.metrics import mean_absolute_error"
   ]
  },
  {
   "cell_type": "code",
   "execution_count": null,
   "metadata": {},
   "outputs": [],
   "source": []
  }
 ],
 "metadata": {
  "kernelspec": {
   "display_name": "Python 3",
   "language": "python",
   "name": "python3"
  },
  "language_info": {
   "codemirror_mode": {
    "name": "ipython",
    "version": 3
   },
   "file_extension": ".py",
   "mimetype": "text/x-python",
   "name": "python",
   "nbconvert_exporter": "python",
   "pygments_lexer": "ipython3",
   "version": "3.8.3"
  }
 },
 "nbformat": 4,
 "nbformat_minor": 2
}
