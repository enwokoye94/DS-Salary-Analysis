{
 "cells": [
  {
   "cell_type": "code",
   "execution_count": 1,
   "metadata": {},
   "outputs": [
    {
     "name": "stderr",
     "output_type": "stream",
     "text": [
      "C:\\ProgramData\\Anaconda3\\lib\\site-packages\\statsmodels\\tools\\_testing.py:19: FutureWarning: pandas.util.testing is deprecated. Use the functions in the public API at pandas.testing instead.\n",
      "  import pandas.util.testing as tm\n"
     ]
    }
   ],
   "source": [
    "import pandas as pd\n",
    "import numpy as np\n",
    "import matplotlib.pyplot as plt \n",
    "import seaborn as sns ; sns.set()\n",
    "\n",
    "%matplotlib inline"
   ]
  },
  {
   "cell_type": "code",
   "execution_count": 17,
   "metadata": {},
   "outputs": [
    {
     "name": "stdout",
     "output_type": "stream",
     "text": [
      "(300, 25)\n",
      "Job Title            140\n",
      "Salary Estimate       10\n",
      "Job Description      271\n",
      "Rating                25\n",
      "Company Name         230\n",
      "Location             129\n",
      "Headquarters         141\n",
      "Size                   9\n",
      "Founded               80\n",
      "Type of ownership     12\n",
      "Industry              44\n",
      "Sector                21\n",
      "Revenue               14\n",
      "Competitors           52\n",
      "hourly                 1\n",
      "min_salary            10\n",
      "max_salary            10\n",
      "avg_salary             9\n",
      "city                 127\n",
      "state                 35\n",
      "same_state             2\n",
      "company_age           80\n",
      "job_tag                5\n",
      "job_level              2\n",
      "num_competitors        4\n",
      "dtype: int64\n"
     ]
    },
    {
     "data": {
      "text/html": [
       "<div>\n",
       "<style scoped>\n",
       "    .dataframe tbody tr th:only-of-type {\n",
       "        vertical-align: middle;\n",
       "    }\n",
       "\n",
       "    .dataframe tbody tr th {\n",
       "        vertical-align: top;\n",
       "    }\n",
       "\n",
       "    .dataframe thead th {\n",
       "        text-align: right;\n",
       "    }\n",
       "</style>\n",
       "<table border=\"1\" class=\"dataframe\">\n",
       "  <thead>\n",
       "    <tr style=\"text-align: right;\">\n",
       "      <th></th>\n",
       "      <th>Job Title</th>\n",
       "      <th>Salary Estimate</th>\n",
       "      <th>Job Description</th>\n",
       "      <th>Rating</th>\n",
       "      <th>Company Name</th>\n",
       "      <th>Location</th>\n",
       "      <th>Headquarters</th>\n",
       "      <th>Size</th>\n",
       "      <th>Founded</th>\n",
       "      <th>Type of ownership</th>\n",
       "      <th>...</th>\n",
       "      <th>min_salary</th>\n",
       "      <th>max_salary</th>\n",
       "      <th>avg_salary</th>\n",
       "      <th>city</th>\n",
       "      <th>state</th>\n",
       "      <th>same_state</th>\n",
       "      <th>company_age</th>\n",
       "      <th>job_tag</th>\n",
       "      <th>job_level</th>\n",
       "      <th>num_competitors</th>\n",
       "    </tr>\n",
       "  </thead>\n",
       "  <tbody>\n",
       "    <tr>\n",
       "      <th>0</th>\n",
       "      <td>Data Scientist</td>\n",
       "      <td>70-116</td>\n",
       "      <td>Secure our Nation, Ignite your Future\\r\\n\\r\\nJ...</td>\n",
       "      <td>4.2</td>\n",
       "      <td>ManTech</td>\n",
       "      <td>Chantilly, VA</td>\n",
       "      <td>Herndon, VA</td>\n",
       "      <td>5001 to 10000 employees</td>\n",
       "      <td>1968</td>\n",
       "      <td>Company - Public</td>\n",
       "      <td>...</td>\n",
       "      <td>70</td>\n",
       "      <td>116</td>\n",
       "      <td>93.0</td>\n",
       "      <td>Chantilly</td>\n",
       "      <td>VA</td>\n",
       "      <td>0</td>\n",
       "      <td>52</td>\n",
       "      <td>data scientist</td>\n",
       "      <td>NaN</td>\n",
       "      <td>0</td>\n",
       "    </tr>\n",
       "    <tr>\n",
       "      <th>1</th>\n",
       "      <td>Data Scientist</td>\n",
       "      <td>70-116</td>\n",
       "      <td>VA Boston Healthcare System\\r\\nBoston, Massach...</td>\n",
       "      <td>3.6</td>\n",
       "      <td>VA Boston Healthcare System</td>\n",
       "      <td>Boston, MA</td>\n",
       "      <td>Boston, MA</td>\n",
       "      <td>201 to 500 employees</td>\n",
       "      <td>-1</td>\n",
       "      <td>Hospital</td>\n",
       "      <td>...</td>\n",
       "      <td>70</td>\n",
       "      <td>116</td>\n",
       "      <td>93.0</td>\n",
       "      <td>Boston</td>\n",
       "      <td>MA</td>\n",
       "      <td>1</td>\n",
       "      <td>-1</td>\n",
       "      <td>data scientist</td>\n",
       "      <td>NaN</td>\n",
       "      <td>0</td>\n",
       "    </tr>\n",
       "    <tr>\n",
       "      <th>2</th>\n",
       "      <td>Data &amp; Analytics Consultant</td>\n",
       "      <td>70-116</td>\n",
       "      <td>WHO WE LOOK FOR\\r\\n\\r\\nAn SEI Consultant is a ...</td>\n",
       "      <td>4.6</td>\n",
       "      <td>SEI</td>\n",
       "      <td>Cincinnati, OH</td>\n",
       "      <td>Cincinnati, OH</td>\n",
       "      <td>201 to 500 employees</td>\n",
       "      <td>1992</td>\n",
       "      <td>Company - Private</td>\n",
       "      <td>...</td>\n",
       "      <td>70</td>\n",
       "      <td>116</td>\n",
       "      <td>93.0</td>\n",
       "      <td>Cincinnati</td>\n",
       "      <td>OH</td>\n",
       "      <td>1</td>\n",
       "      <td>28</td>\n",
       "      <td>other</td>\n",
       "      <td>NaN</td>\n",
       "      <td>0</td>\n",
       "    </tr>\n",
       "    <tr>\n",
       "      <th>3</th>\n",
       "      <td>R&amp;D Scientist</td>\n",
       "      <td>70-116</td>\n",
       "      <td>Since 2001, Hygiena has been on a mission to b...</td>\n",
       "      <td>3.9</td>\n",
       "      <td>Hygiena</td>\n",
       "      <td>New Castle, DE</td>\n",
       "      <td>Camarillo, CA</td>\n",
       "      <td>201 to 500 employees</td>\n",
       "      <td>-1</td>\n",
       "      <td>Company - Private</td>\n",
       "      <td>...</td>\n",
       "      <td>70</td>\n",
       "      <td>116</td>\n",
       "      <td>93.0</td>\n",
       "      <td>New Castle</td>\n",
       "      <td>DE</td>\n",
       "      <td>0</td>\n",
       "      <td>-1</td>\n",
       "      <td>other</td>\n",
       "      <td>NaN</td>\n",
       "      <td>2</td>\n",
       "    </tr>\n",
       "    <tr>\n",
       "      <th>4</th>\n",
       "      <td>Data Scientist</td>\n",
       "      <td>70-116</td>\n",
       "      <td>Why We Work at Dun &amp; Bradstreet\\r\\n\\r\\n\\r\\nWe ...</td>\n",
       "      <td>3.1</td>\n",
       "      <td>Dun &amp; Bradstreet</td>\n",
       "      <td>Austin, TX</td>\n",
       "      <td>Short Hills, NJ</td>\n",
       "      <td>1001 to 5000 employees</td>\n",
       "      <td>1841</td>\n",
       "      <td>Company - Private</td>\n",
       "      <td>...</td>\n",
       "      <td>70</td>\n",
       "      <td>116</td>\n",
       "      <td>93.0</td>\n",
       "      <td>Austin</td>\n",
       "      <td>TX</td>\n",
       "      <td>0</td>\n",
       "      <td>179</td>\n",
       "      <td>data scientist</td>\n",
       "      <td>NaN</td>\n",
       "      <td>2</td>\n",
       "    </tr>\n",
       "  </tbody>\n",
       "</table>\n",
       "<p>5 rows × 25 columns</p>\n",
       "</div>"
      ],
      "text/plain": [
       "                     Job Title Salary Estimate  \\\n",
       "0               Data Scientist         70-116    \n",
       "1               Data Scientist         70-116    \n",
       "2  Data & Analytics Consultant         70-116    \n",
       "3                R&D Scientist         70-116    \n",
       "4               Data Scientist         70-116    \n",
       "\n",
       "                                     Job Description  Rating  \\\n",
       "0  Secure our Nation, Ignite your Future\\r\\n\\r\\nJ...     4.2   \n",
       "1  VA Boston Healthcare System\\r\\nBoston, Massach...     3.6   \n",
       "2  WHO WE LOOK FOR\\r\\n\\r\\nAn SEI Consultant is a ...     4.6   \n",
       "3  Since 2001, Hygiena has been on a mission to b...     3.9   \n",
       "4  Why We Work at Dun & Bradstreet\\r\\n\\r\\n\\r\\nWe ...     3.1   \n",
       "\n",
       "                  Company Name        Location     Headquarters  \\\n",
       "0                      ManTech   Chantilly, VA      Herndon, VA   \n",
       "1  VA Boston Healthcare System      Boston, MA       Boston, MA   \n",
       "2                          SEI  Cincinnati, OH   Cincinnati, OH   \n",
       "3                      Hygiena  New Castle, DE    Camarillo, CA   \n",
       "4             Dun & Bradstreet      Austin, TX  Short Hills, NJ   \n",
       "\n",
       "                      Size  Founded  Type of ownership  ... min_salary  \\\n",
       "0  5001 to 10000 employees     1968   Company - Public  ...         70   \n",
       "1     201 to 500 employees       -1           Hospital  ...         70   \n",
       "2     201 to 500 employees     1992  Company - Private  ...         70   \n",
       "3     201 to 500 employees       -1  Company - Private  ...         70   \n",
       "4   1001 to 5000 employees     1841  Company - Private  ...         70   \n",
       "\n",
       "  max_salary avg_salary        city  state  same_state  company_age  \\\n",
       "0        116       93.0   Chantilly     VA           0           52   \n",
       "1        116       93.0      Boston     MA           1           -1   \n",
       "2        116       93.0  Cincinnati     OH           1           28   \n",
       "3        116       93.0  New Castle     DE           0           -1   \n",
       "4        116       93.0      Austin     TX           0          179   \n",
       "\n",
       "          job_tag job_level num_competitors  \n",
       "0  data scientist       NaN               0  \n",
       "1  data scientist       NaN               0  \n",
       "2           other       NaN               0  \n",
       "3           other       NaN               2  \n",
       "4  data scientist       NaN               2  \n",
       "\n",
       "[5 rows x 25 columns]"
      ]
     },
     "execution_count": 17,
     "metadata": {},
     "output_type": "execute_result"
    }
   ],
   "source": [
    "jobs = pd.read_csv('cleaned_list.csv')\n",
    "print(jobs.shape)\n",
    "print(jobs.nunique())\n",
    "jobs.head()"
   ]
  },
  {
   "cell_type": "code",
   "execution_count": 3,
   "metadata": {},
   "outputs": [
    {
     "data": {
      "text/plain": [
       "<matplotlib.axes._subplots.AxesSubplot at 0x1a62b366408>"
      ]
     },
     "execution_count": 3,
     "metadata": {},
     "output_type": "execute_result"
    },
    {
     "data": {
      "image/png": "[encoded data removed]",
      "text/plain": [
       "<Figure size 432x288 with 1 Axes>"
      ]
     },
     "metadata": {
      "needs_background": "light"
     },
     "output_type": "display_data"
    }
   ],
   "source": [
    "jobs.avg_salary.hist(bins=5)"
   ]
  },
  {
   "cell_type": "code",
   "execution_count": 4,
   "metadata": {},
   "outputs": [
    {
     "data": {
      "text/plain": [
       "<matplotlib.axes._subplots.AxesSubplot at 0x1a62bad0108>"
      ]
     },
     "execution_count": 4,
     "metadata": {},
     "output_type": "execute_result"
    },
    {
     "data": {
      "image/png": "[encoded data removed]",
      "text/plain": [
       "<Figure size 432x288 with 1 Axes>"
      ]
     },
     "metadata": {
      "needs_background": "light"
     },
     "output_type": "display_data"
    }
   ],
   "source": [
    "jobs[jobs['Rating'] != -1].Rating.hist(bins=5)"
   ]
  },
  {
   "cell_type": "code",
   "execution_count": 19,
   "metadata": {},
   "outputs": [
    {
     "name": "stdout",
     "output_type": "stream",
     "text": [
      "51 to 200 employees        68\n",
      "10000+ employees           63\n",
      "1 to 50 employees          44\n",
      "1001 to 5000 employees     39\n",
      "201 to 500 employees       32\n",
      "5001 to 10000 employees    22\n",
      "501 to 1000 employees      21\n",
      "Unknown                     8\n",
      "-1                          3\n",
      "Name: Size, dtype: int64\n",
      " CA          70\n",
      " MA          27\n",
      " NY          24\n",
      " TX          21\n",
      " VA          20\n",
      " WA          13\n",
      " DC          13\n",
      " IL          10\n",
      " PA           9\n",
      " NJ           9\n",
      " OH           8\n",
      " MO           8\n",
      " NC           6\n",
      " MD           4\n",
      " MI           4\n",
      " FL           4\n",
      " CO           4\n",
      " WI           4\n",
      " GA           3\n",
      " AL           3\n",
      " CT           3\n",
      " AZ           3\n",
      " PR           2\n",
      " NE           2\n",
      " UT           2\n",
      " MN           2\n",
      " AR           1\n",
      " IA           1\n",
      " KS           1\n",
      " LA           1\n",
      " TN           1\n",
      " Arapahoe     1\n",
      " KY           1\n",
      " NM           1\n",
      " DE           1\n",
      "Name: state, dtype: int64\n",
      "data scientist    238\n",
      "other              44\n",
      "data engineer      10\n",
      "data analyst        5\n",
      "mle                 3\n",
      "Name: job_tag, dtype: int64\n",
      "Experienced            57\n",
      "Associate/Jr. Level    14\n",
      "Name: job_level, dtype: int64\n"
     ]
    }
   ],
   "source": [
    "print(jobs['Size'].value_counts())\n",
    "print(jobs['state'].value_counts())\n",
    "print(jobs['job_tag'].value_counts())\n",
    "print(jobs['job_level'].value_counts())"
   ]
  },
  {
   "cell_type": "code",
   "execution_count": 20,
   "metadata": {},
   "outputs": [
    {
     "data": {
      "text/plain": [
       "array([' VA', ' MA', ' OH', ' DE', ' TX', ' CA', ' NE', ' MD', ' DC',\n",
       "       ' WA', nan, ' NY', ' WI', ' PA', ' NC', ' FL', ' IL', ' KY', ' AL',\n",
       "       ' NJ', ' MI', ' MO', ' MN', ' KS', ' AR', ' CO', ' TN', ' LA',\n",
       "       ' AZ', ' IA', ' GA', ' UT', ' PR', ' NM', ' CT', ' Arapahoe'],\n",
       "      dtype=object)"
      ]
     },
     "execution_count": 20,
     "metadata": {},
     "output_type": "execute_result"
    }
   ],
   "source": [
    "jobs.state.unique()"
   ]
  },
  {
   "cell_type": "code",
   "execution_count": 32,
   "metadata": {},
   "outputs": [
    {
     "data": {
      "text/plain": [
       "0      SouthEast\n",
       "1      NorthEast\n",
       "2        MidWest\n",
       "3      NorthEast\n",
       "4      SouthWest\n",
       "         ...    \n",
       "295         West\n",
       "296         West\n",
       "297    SouthWest\n",
       "298    NorthEast\n",
       "299    SouthEast\n",
       "Name: region, Length: 300, dtype: object"
      ]
     },
     "execution_count": 32,
     "metadata": {},
     "output_type": "execute_result"
    }
   ],
   "source": [
    "# mapping by region to run statistal tests \n",
    "\n",
    "region = {' VA' :'SouthEast', ' MA':'NorthEast', ' OH':'MidWest', ' DE':'NorthEast', ' TX':'SouthWest', ' CA':'West', ' NE':'NorthEast', ' MD':'NorthEast', ' DC':'NorthEast',\n",
    "       ' WA':'West',' NY':'NorthEast', ' WI':'MidWest', ' PA':'NorthEast', ' NC':'SouthEast', ' FL':'SouthEast', ' IL':'MidWest', ' KY':'SouthEast', ' AL':'SouthEast',\n",
    "       ' NJ':'NorthEast', ' MI':'MidWest', ' MO':'West', ' MN':'MidWest', ' KS':'MidWest', ' AR':'SouthWest', ' CO':'West', ' TN':'SouthEast', ' LA':'SouthEast',\n",
    "       ' AZ':'SouthWest', ' IA':'MidWest', ' GA':'SouthEast', ' UT':'West', ' PR':'SouthWest', ' NM': 'SouthWest', ' CT':'NorthEast', \n",
    "    \n",
    "}\n",
    "\n",
    "jobs['region'] = jobs.state.map(region)\n",
    "jobs.region"
   ]
  },
  {
   "cell_type": "code",
   "execution_count": 33,
   "metadata": {},
   "outputs": [
    {
     "data": {
      "text/plain": [
       "West         97\n",
       "NorthEast    92\n",
       "SouthEast    39\n",
       "MidWest      30\n",
       "SouthWest    28\n",
       "Name: region, dtype: int64"
      ]
     },
     "execution_count": 33,
     "metadata": {},
     "output_type": "execute_result"
    }
   ],
   "source": [
    "jobs['region'].value_counts()"
   ]
  },
  {
   "cell_type": "code",
   "execution_count": 35,
   "metadata": {},
   "outputs": [
    {
     "data": {
      "text/html": [
       "<div>\n",
       "<style scoped>\n",
       "    .dataframe tbody tr th:only-of-type {\n",
       "        vertical-align: middle;\n",
       "    }\n",
       "\n",
       "    .dataframe tbody tr th {\n",
       "        vertical-align: top;\n",
       "    }\n",
       "\n",
       "    .dataframe thead th {\n",
       "        text-align: right;\n",
       "    }\n",
       "</style>\n",
       "<table border=\"1\" class=\"dataframe\">\n",
       "  <thead>\n",
       "    <tr style=\"text-align: right;\">\n",
       "      <th></th>\n",
       "      <th>Rating</th>\n",
       "      <th>Founded</th>\n",
       "      <th>hourly</th>\n",
       "      <th>min_salary</th>\n",
       "      <th>max_salary</th>\n",
       "      <th>avg_salary</th>\n",
       "      <th>same_state</th>\n",
       "      <th>company_age</th>\n",
       "      <th>num_competitors</th>\n",
       "    </tr>\n",
       "    <tr>\n",
       "      <th>region</th>\n",
       "      <th></th>\n",
       "      <th></th>\n",
       "      <th></th>\n",
       "      <th></th>\n",
       "      <th></th>\n",
       "      <th></th>\n",
       "      <th></th>\n",
       "      <th></th>\n",
       "      <th></th>\n",
       "    </tr>\n",
       "  </thead>\n",
       "  <tbody>\n",
       "    <tr>\n",
       "      <th>MidWest</th>\n",
       "      <td>3.803333</td>\n",
       "      <td>1840.966667</td>\n",
       "      <td>0.0</td>\n",
       "      <td>79.966667</td>\n",
       "      <td>117.500000</td>\n",
       "      <td>98.733333</td>\n",
       "      <td>0.333333</td>\n",
       "      <td>44.233333</td>\n",
       "      <td>0.600000</td>\n",
       "    </tr>\n",
       "    <tr>\n",
       "      <th>NorthEast</th>\n",
       "      <td>3.842391</td>\n",
       "      <td>1587.391304</td>\n",
       "      <td>0.0</td>\n",
       "      <td>81.380435</td>\n",
       "      <td>126.184783</td>\n",
       "      <td>103.782609</td>\n",
       "      <td>0.478261</td>\n",
       "      <td>37.000000</td>\n",
       "      <td>0.423913</td>\n",
       "    </tr>\n",
       "    <tr>\n",
       "      <th>SouthEast</th>\n",
       "      <td>3.579487</td>\n",
       "      <td>1476.102564</td>\n",
       "      <td>0.0</td>\n",
       "      <td>79.461538</td>\n",
       "      <td>123.282051</td>\n",
       "      <td>101.371795</td>\n",
       "      <td>0.282051</td>\n",
       "      <td>25.435897</td>\n",
       "      <td>0.358974</td>\n",
       "    </tr>\n",
       "    <tr>\n",
       "      <th>SouthWest</th>\n",
       "      <td>3.510714</td>\n",
       "      <td>1541.214286</td>\n",
       "      <td>0.0</td>\n",
       "      <td>80.500000</td>\n",
       "      <td>123.535714</td>\n",
       "      <td>102.017857</td>\n",
       "      <td>0.178571</td>\n",
       "      <td>45.500000</td>\n",
       "      <td>0.821429</td>\n",
       "    </tr>\n",
       "    <tr>\n",
       "      <th>West</th>\n",
       "      <td>3.973196</td>\n",
       "      <td>1709.402062</td>\n",
       "      <td>0.0</td>\n",
       "      <td>85.742268</td>\n",
       "      <td>131.298969</td>\n",
       "      <td>108.520619</td>\n",
       "      <td>0.422680</td>\n",
       "      <td>18.762887</td>\n",
       "      <td>0.938144</td>\n",
       "    </tr>\n",
       "  </tbody>\n",
       "</table>\n",
       "</div>"
      ],
      "text/plain": [
       "             Rating      Founded  hourly  min_salary  max_salary  avg_salary  \\\n",
       "region                                                                         \n",
       "MidWest    3.803333  1840.966667     0.0   79.966667  117.500000   98.733333   \n",
       "NorthEast  3.842391  1587.391304     0.0   81.380435  126.184783  103.782609   \n",
       "SouthEast  3.579487  1476.102564     0.0   79.461538  123.282051  101.371795   \n",
       "SouthWest  3.510714  1541.214286     0.0   80.500000  123.535714  102.017857   \n",
       "West       3.973196  1709.402062     0.0   85.742268  131.298969  108.520619   \n",
       "\n",
       "           same_state  company_age  num_competitors  \n",
       "region                                               \n",
       "MidWest      0.333333    44.233333         0.600000  \n",
       "NorthEast    0.478261    37.000000         0.423913  \n",
       "SouthEast    0.282051    25.435897         0.358974  \n",
       "SouthWest    0.178571    45.500000         0.821429  \n",
       "West         0.422680    18.762887         0.938144  "
      ]
     },
     "execution_count": 35,
     "metadata": {},
     "output_type": "execute_result"
    }
   ],
   "source": [
    "# since value counts seem to be similar we can create histogrmas to make sure they're about normal and the run a/b tests on the regions\n",
    "\n",
    "jobs.groupby('region').mean()"
   ]
  },
  {
   "cell_type": "code",
   "execution_count": 43,
   "metadata": {},
   "outputs": [
    {
     "name": "stdout",
     "output_type": "stream",
     "text": [
      "SouthEast\n",
      "NorthEast\n",
      "MidWest\n",
      "SouthWest\n",
      "West\n",
      "nan\n"
     ]
    },
    {
     "data": {
      "image/png": "[encoded data removed]",
      "text/plain": [
       "<Figure size 432x288 with 1 Axes>"
      ]
     },
     "metadata": {
      "needs_background": "light"
     },
     "output_type": "display_data"
    },
    {
     "data": {
      "image/png": "[encoded data removed]",
      "text/plain": [
       "<Figure size 432x288 with 1 Axes>"
      ]
     },
     "metadata": {
      "needs_background": "light"
     },
     "output_type": "display_data"
    },
    {
     "data": {
      "image/png": "[encoded data removed]",
      "text/plain": [
       "<Figure size 432x288 with 1 Axes>"
      ]
     },
     "metadata": {
      "needs_background": "light"
     },
     "output_type": "display_data"
    },
    {
     "data": {
      "image/png": "[encoded data removed]",
      "text/plain": [
       "<Figure size 432x288 with 1 Axes>"
      ]
     },
     "metadata": {
      "needs_background": "light"
     },
     "output_type": "display_data"
    },
    {
     "data": {
      "image/png": "[encoded data removed]",
      "text/plain": [
       "<Figure size 432x288 with 1 Axes>"
      ]
     },
     "metadata": {
      "needs_background": "light"
     },
     "output_type": "display_data"
    },
    {
     "data": {
      "image/png": "[encoded data removed]",
      "text/plain": [
       "<Figure size 432x288 with 1 Axes>"
      ]
     },
     "metadata": {
      "needs_background": "light"
     },
     "output_type": "display_data"
    }
   ],
   "source": [
    "uniq_region = jobs.region.unique()\n",
    "\n",
    "for reg in uniq_region:\n",
    "    temp = jobs[jobs['region']==reg]\n",
    "    plt.figure()\n",
    "    temp.avg_salary.hist(bins=5)\n",
    "    print(reg)\n"
   ]
  },
  {
   "cell_type": "code",
   "execution_count": 44,
   "metadata": {},
   "outputs": [],
   "source": [
    "import scipy.stats as stats\n"
   ]
  },
  {
   "cell_type": "code",
   "execution_count": 47,
   "metadata": {},
   "outputs": [
    {
     "data": {
      "text/plain": [
       "Ttest_indResult(statistic=-1.4089222153569796, pvalue=0.1605188044582634)"
      ]
     },
     "execution_count": 47,
     "metadata": {},
     "output_type": "execute_result"
    }
   ],
   "source": [
    "stats.ttest_ind(jobs[jobs['region']== 'NorthEast'].avg_salary, \n",
    "               jobs[jobs['region']== 'West'].avg_salary, equal_var=True)"
   ]
  },
  {
   "cell_type": "code",
   "execution_count": 50,
   "metadata": {},
   "outputs": [
    {
     "data": {
      "text/plain": [
       "Ttest_indResult(statistic=0.5819331220982586, pvalue=0.5623894463801942)"
      ]
     },
     "execution_count": 50,
     "metadata": {},
     "output_type": "execute_result"
    }
   ],
   "source": [
    "stats.ttest_ind(jobs[jobs['region']== 'NorthEast'].avg_salary, \n",
    "               jobs[jobs['region']== 'SouthEast'].avg_salary, equal_var=False)"
   ]
  },
  {
   "cell_type": "code",
   "execution_count": null,
   "metadata": {},
   "outputs": [],
   "source": []
  }
 ],
 "metadata": {
  "kernelspec": {
   "display_name": "Python 3",
   "language": "python",
   "name": "python3"
  },
  "language_info": {
   "codemirror_mode": {
    "name": "ipython",
    "version": 3
   },
   "file_extension": ".py",
   "mimetype": "text/x-python",
   "name": "python",
   "nbconvert_exporter": "python",
   "pygments_lexer": "ipython3",
   "version": "3.7.4"
  }
 },
 "nbformat": 4,
 "nbformat_minor": 2
}
